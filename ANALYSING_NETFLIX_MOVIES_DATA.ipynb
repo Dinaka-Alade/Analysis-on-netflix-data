{
 "cells": [
  {
   "cell_type": "markdown",
   "id": "4a649aee",
   "metadata": {},
   "source": [
    "ANALYSING NETFLIX MOVIES DATA\n",
    "\n",
    "AIM: Basic Analysis to explore the data and clean up the data"
   ]
  },
  {
   "cell_type": "code",
   "execution_count": 46,
   "id": "d006a445",
   "metadata": {},
   "outputs": [],
   "source": [
    "# Importing some useful libraries\n",
    "import pandas as pd\n",
    "import numpy as np\n",
    "import matplotlib.pyplot as plt"
   ]
  },
  {
   "cell_type": "code",
   "execution_count": 47,
   "id": "19bf6f73",
   "metadata": {},
   "outputs": [],
   "source": [
    "# Read the CSV file using pandas\n",
    "net = pd.read_csv('netflix_dataset.csv')"
   ]
  },
  {
   "cell_type": "code",
   "execution_count": 48,
   "id": "19ab31b8",
   "metadata": {},
   "outputs": [
    {
     "data": {
      "text/html": [
       "<div>\n",
       "<style scoped>\n",
       "    .dataframe tbody tr th:only-of-type {\n",
       "        vertical-align: middle;\n",
       "    }\n",
       "\n",
       "    .dataframe tbody tr th {\n",
       "        vertical-align: top;\n",
       "    }\n",
       "\n",
       "    .dataframe thead th {\n",
       "        text-align: right;\n",
       "    }\n",
       "</style>\n",
       "<table border=\"1\" class=\"dataframe\">\n",
       "  <thead>\n",
       "    <tr style=\"text-align: right;\">\n",
       "      <th></th>\n",
       "      <th>show_id</th>\n",
       "      <th>type</th>\n",
       "      <th>title</th>\n",
       "      <th>director</th>\n",
       "      <th>cast</th>\n",
       "      <th>country</th>\n",
       "      <th>date_added</th>\n",
       "      <th>release_year</th>\n",
       "      <th>rating</th>\n",
       "      <th>duration</th>\n",
       "      <th>listed_in</th>\n",
       "      <th>description</th>\n",
       "    </tr>\n",
       "  </thead>\n",
       "  <tbody>\n",
       "    <tr>\n",
       "      <th>0</th>\n",
       "      <td>s1</td>\n",
       "      <td>Movie</td>\n",
       "      <td>Dick Johnson Is Dead</td>\n",
       "      <td>Kirsten Johnson</td>\n",
       "      <td>NaN</td>\n",
       "      <td>United States</td>\n",
       "      <td>September 25, 2021</td>\n",
       "      <td>2020</td>\n",
       "      <td>PG-13</td>\n",
       "      <td>90 min</td>\n",
       "      <td>Documentaries</td>\n",
       "      <td>As her father nears the end of his life, filmm...</td>\n",
       "    </tr>\n",
       "    <tr>\n",
       "      <th>1</th>\n",
       "      <td>s2</td>\n",
       "      <td>TV Show</td>\n",
       "      <td>Blood &amp; Water</td>\n",
       "      <td>NaN</td>\n",
       "      <td>Ama Qamata, Khosi Ngema, Gail Mabalane, Thaban...</td>\n",
       "      <td>South Africa</td>\n",
       "      <td>September 24, 2021</td>\n",
       "      <td>2021</td>\n",
       "      <td>TV-MA</td>\n",
       "      <td>2 Seasons</td>\n",
       "      <td>International TV Shows, TV Dramas, TV Mysteries</td>\n",
       "      <td>After crossing paths at a party, a Cape Town t...</td>\n",
       "    </tr>\n",
       "    <tr>\n",
       "      <th>2</th>\n",
       "      <td>s3</td>\n",
       "      <td>TV Show</td>\n",
       "      <td>Ganglands</td>\n",
       "      <td>Julien Leclercq</td>\n",
       "      <td>Sami Bouajila, Tracy Gotoas, Samuel Jouy, Nabi...</td>\n",
       "      <td>NaN</td>\n",
       "      <td>September 24, 2021</td>\n",
       "      <td>2021</td>\n",
       "      <td>TV-MA</td>\n",
       "      <td>1 Season</td>\n",
       "      <td>Crime TV Shows, International TV Shows, TV Act...</td>\n",
       "      <td>To protect his family from a powerful drug lor...</td>\n",
       "    </tr>\n",
       "    <tr>\n",
       "      <th>3</th>\n",
       "      <td>s4</td>\n",
       "      <td>TV Show</td>\n",
       "      <td>Jailbirds New Orleans</td>\n",
       "      <td>NaN</td>\n",
       "      <td>NaN</td>\n",
       "      <td>NaN</td>\n",
       "      <td>September 24, 2021</td>\n",
       "      <td>2021</td>\n",
       "      <td>TV-MA</td>\n",
       "      <td>1 Season</td>\n",
       "      <td>Docuseries, Reality TV</td>\n",
       "      <td>Feuds, flirtations and toilet talk go down amo...</td>\n",
       "    </tr>\n",
       "    <tr>\n",
       "      <th>4</th>\n",
       "      <td>s5</td>\n",
       "      <td>TV Show</td>\n",
       "      <td>Kota Factory</td>\n",
       "      <td>NaN</td>\n",
       "      <td>Mayur More, Jitendra Kumar, Ranjan Raj, Alam K...</td>\n",
       "      <td>India</td>\n",
       "      <td>September 24, 2021</td>\n",
       "      <td>2021</td>\n",
       "      <td>TV-MA</td>\n",
       "      <td>2 Seasons</td>\n",
       "      <td>International TV Shows, Romantic TV Shows, TV ...</td>\n",
       "      <td>In a city of coaching centers known to train I...</td>\n",
       "    </tr>\n",
       "  </tbody>\n",
       "</table>\n",
       "</div>"
      ],
      "text/plain": [
       "  show_id     type                  title         director  \\\n",
       "0      s1    Movie   Dick Johnson Is Dead  Kirsten Johnson   \n",
       "1      s2  TV Show          Blood & Water              NaN   \n",
       "2      s3  TV Show              Ganglands  Julien Leclercq   \n",
       "3      s4  TV Show  Jailbirds New Orleans              NaN   \n",
       "4      s5  TV Show           Kota Factory              NaN   \n",
       "\n",
       "                                                cast        country  \\\n",
       "0                                                NaN  United States   \n",
       "1  Ama Qamata, Khosi Ngema, Gail Mabalane, Thaban...   South Africa   \n",
       "2  Sami Bouajila, Tracy Gotoas, Samuel Jouy, Nabi...            NaN   \n",
       "3                                                NaN            NaN   \n",
       "4  Mayur More, Jitendra Kumar, Ranjan Raj, Alam K...          India   \n",
       "\n",
       "           date_added  release_year rating   duration  \\\n",
       "0  September 25, 2021          2020  PG-13     90 min   \n",
       "1  September 24, 2021          2021  TV-MA  2 Seasons   \n",
       "2  September 24, 2021          2021  TV-MA   1 Season   \n",
       "3  September 24, 2021          2021  TV-MA   1 Season   \n",
       "4  September 24, 2021          2021  TV-MA  2 Seasons   \n",
       "\n",
       "                                           listed_in  \\\n",
       "0                                      Documentaries   \n",
       "1    International TV Shows, TV Dramas, TV Mysteries   \n",
       "2  Crime TV Shows, International TV Shows, TV Act...   \n",
       "3                             Docuseries, Reality TV   \n",
       "4  International TV Shows, Romantic TV Shows, TV ...   \n",
       "\n",
       "                                         description  \n",
       "0  As her father nears the end of his life, filmm...  \n",
       "1  After crossing paths at a party, a Cape Town t...  \n",
       "2  To protect his family from a powerful drug lor...  \n",
       "3  Feuds, flirtations and toilet talk go down amo...  \n",
       "4  In a city of coaching centers known to train I...  "
      ]
     },
     "execution_count": 48,
     "metadata": {},
     "output_type": "execute_result"
    }
   ],
   "source": [
    "# Displaying the top 5 rows and columns\n",
    "net.head()"
   ]
  },
  {
   "cell_type": "code",
   "execution_count": 49,
   "id": "c3ad3d38",
   "metadata": {},
   "outputs": [
    {
     "data": {
      "text/plain": [
       "show_id            0\n",
       "type               0\n",
       "title              0\n",
       "director        2634\n",
       "cast             825\n",
       "country          831\n",
       "date_added        10\n",
       "release_year       0\n",
       "rating             4\n",
       "duration           3\n",
       "listed_in          0\n",
       "description        0\n",
       "dtype: int64"
      ]
     },
     "execution_count": 49,
     "metadata": {},
     "output_type": "execute_result"
    }
   ],
   "source": [
    "# Check for missing values in each column\n",
    "net.isnull().sum()"
   ]
  },
  {
   "cell_type": "code",
   "execution_count": 50,
   "id": "5fe2e2d7",
   "metadata": {},
   "outputs": [
    {
     "data": {
      "text/html": [
       "<div>\n",
       "<style scoped>\n",
       "    .dataframe tbody tr th:only-of-type {\n",
       "        vertical-align: middle;\n",
       "    }\n",
       "\n",
       "    .dataframe tbody tr th {\n",
       "        vertical-align: top;\n",
       "    }\n",
       "\n",
       "    .dataframe thead th {\n",
       "        text-align: right;\n",
       "    }\n",
       "</style>\n",
       "<table border=\"1\" class=\"dataframe\">\n",
       "  <thead>\n",
       "    <tr style=\"text-align: right;\">\n",
       "      <th></th>\n",
       "      <th>release_year</th>\n",
       "    </tr>\n",
       "  </thead>\n",
       "  <tbody>\n",
       "    <tr>\n",
       "      <th>count</th>\n",
       "      <td>8807.000000</td>\n",
       "    </tr>\n",
       "    <tr>\n",
       "      <th>mean</th>\n",
       "      <td>2014.180198</td>\n",
       "    </tr>\n",
       "    <tr>\n",
       "      <th>std</th>\n",
       "      <td>8.819312</td>\n",
       "    </tr>\n",
       "    <tr>\n",
       "      <th>min</th>\n",
       "      <td>1925.000000</td>\n",
       "    </tr>\n",
       "    <tr>\n",
       "      <th>25%</th>\n",
       "      <td>2013.000000</td>\n",
       "    </tr>\n",
       "    <tr>\n",
       "      <th>50%</th>\n",
       "      <td>2017.000000</td>\n",
       "    </tr>\n",
       "    <tr>\n",
       "      <th>75%</th>\n",
       "      <td>2019.000000</td>\n",
       "    </tr>\n",
       "    <tr>\n",
       "      <th>max</th>\n",
       "      <td>2021.000000</td>\n",
       "    </tr>\n",
       "  </tbody>\n",
       "</table>\n",
       "</div>"
      ],
      "text/plain": [
       "       release_year\n",
       "count   8807.000000\n",
       "mean    2014.180198\n",
       "std        8.819312\n",
       "min     1925.000000\n",
       "25%     2013.000000\n",
       "50%     2017.000000\n",
       "75%     2019.000000\n",
       "max     2021.000000"
      ]
     },
     "execution_count": 50,
     "metadata": {},
     "output_type": "execute_result"
    }
   ],
   "source": [
    "# Checking out the summary statistics\n",
    "net.describe()"
   ]
  },
  {
   "cell_type": "code",
   "execution_count": 51,
   "id": "b8b2938b",
   "metadata": {},
   "outputs": [
    {
     "name": "stdout",
     "output_type": "stream",
     "text": [
      "<class 'pandas.core.frame.DataFrame'>\n",
      "RangeIndex: 8807 entries, 0 to 8806\n",
      "Data columns (total 12 columns):\n",
      " #   Column        Non-Null Count  Dtype \n",
      "---  ------        --------------  ----- \n",
      " 0   show_id       8807 non-null   object\n",
      " 1   type          8807 non-null   object\n",
      " 2   title         8807 non-null   object\n",
      " 3   director      6173 non-null   object\n",
      " 4   cast          7982 non-null   object\n",
      " 5   country       7976 non-null   object\n",
      " 6   date_added    8797 non-null   object\n",
      " 7   release_year  8807 non-null   int64 \n",
      " 8   rating        8803 non-null   object\n",
      " 9   duration      8804 non-null   object\n",
      " 10  listed_in     8807 non-null   object\n",
      " 11  description   8807 non-null   object\n",
      "dtypes: int64(1), object(11)\n",
      "memory usage: 825.8+ KB\n"
     ]
    }
   ],
   "source": [
    "net.info()"
   ]
  },
  {
   "cell_type": "code",
   "execution_count": 52,
   "id": "c44fe794",
   "metadata": {},
   "outputs": [
    {
     "data": {
      "text/plain": [
       "(8807, 12)"
      ]
     },
     "execution_count": 52,
     "metadata": {},
     "output_type": "execute_result"
    }
   ],
   "source": [
    "net.shape"
   ]
  },
  {
   "cell_type": "markdown",
   "id": "2c9a04ae",
   "metadata": {},
   "source": [
    "Some analysis have been done to get to know the data\n",
    "Findings: - It contains missing values\n",
    "          - Durations column is meant to be an integer column, it should be changed\n",
    "          - Missing values should be filled or dropped based on further analysis. It will be dropped\n",
    "          - Filtering should be done to select the 'Movies' from the type column for further analysis then the shape, info, presence/absence of null values will be checked again"
   ]
  },
  {
   "cell_type": "code",
   "execution_count": 53,
   "id": "d227274b",
   "metadata": {},
   "outputs": [
    {
     "name": "stdout",
     "output_type": "stream",
     "text": [
      "                              title  \\\n",
      "0              Dick Johnson Is Dead   \n",
      "6  My Little Pony: A New Generation   \n",
      "7                           Sankofa   \n",
      "\n",
      "                                             country  release_year duration  \\\n",
      "0                                      United States          2020   90 min   \n",
      "6                                                NaN          2021   91 min   \n",
      "7  United States, Ghana, Burkina Faso, United Kin...          1993  125 min   \n",
      "\n",
      "  rating                                         listed_in  \\\n",
      "0  PG-13                                     Documentaries   \n",
      "6     PG                          Children & Family Movies   \n",
      "7  TV-MA  Dramas, Independent Movies, International Movies   \n",
      "\n",
      "                        director  \n",
      "0                Kirsten Johnson  \n",
      "6  Robert Cullen, José Luis Ucha  \n",
      "7                   Haile Gerima  \n"
     ]
    }
   ],
   "source": [
    "#Subset to get only Movies from the type column\n",
    "net_movies_only = net[net.type == 'Movie']\n",
    "\n",
    "#Subset to get other columns of interest\n",
    "net_movies_col = net_movies_only[['title', 'country', 'release_year', 'duration', 'rating', 'listed_in', 'director']]\n",
    "\n",
    "print(net_movies_col.head(3))"
   ]
  },
  {
   "cell_type": "code",
   "execution_count": 54,
   "id": "17f8c7a4",
   "metadata": {},
   "outputs": [],
   "source": [
    "# Dropping null values\n",
    "net_movies_col = net_movies_col.dropna()"
   ]
  },
  {
   "cell_type": "code",
   "execution_count": 55,
   "id": "44528df0",
   "metadata": {},
   "outputs": [
    {
     "data": {
      "text/plain": [
       "title           0\n",
       "country         0\n",
       "release_year    0\n",
       "duration        0\n",
       "rating          0\n",
       "listed_in       0\n",
       "director        0\n",
       "dtype: int64"
      ]
     },
     "execution_count": 55,
     "metadata": {},
     "output_type": "execute_result"
    }
   ],
   "source": [
    "net_movies_col.isnull().sum()"
   ]
  },
  {
   "cell_type": "code",
   "execution_count": 56,
   "id": "19a9dd04",
   "metadata": {},
   "outputs": [
    {
     "name": "stdout",
     "output_type": "stream",
     "text": [
      "0        90\n",
      "7       125\n",
      "9       104\n",
      "12      127\n",
      "24      166\n",
      "       ... \n",
      "8801     96\n",
      "8802    158\n",
      "8804     88\n",
      "8805     88\n",
      "8806    111\n",
      "Name: duration, Length: 5558, dtype: int32\n"
     ]
    }
   ],
   "source": [
    "#changing the duration column to an integer\n",
    "net_movies_col.duration = net_movies_col.duration.str.strip('min')\n",
    "net_movies_col.duration = net_movies_col.duration.astype('int')\n",
    "print(net_movies_col.duration)"
   ]
  },
  {
   "cell_type": "code",
   "execution_count": 57,
   "id": "3f1eb0a0",
   "metadata": {},
   "outputs": [
    {
     "data": {
      "text/html": [
       "<div>\n",
       "<style scoped>\n",
       "    .dataframe tbody tr th:only-of-type {\n",
       "        vertical-align: middle;\n",
       "    }\n",
       "\n",
       "    .dataframe tbody tr th {\n",
       "        vertical-align: top;\n",
       "    }\n",
       "\n",
       "    .dataframe thead th {\n",
       "        text-align: right;\n",
       "    }\n",
       "</style>\n",
       "<table border=\"1\" class=\"dataframe\">\n",
       "  <thead>\n",
       "    <tr style=\"text-align: right;\">\n",
       "      <th></th>\n",
       "      <th>release_year</th>\n",
       "      <th>duration</th>\n",
       "    </tr>\n",
       "  </thead>\n",
       "  <tbody>\n",
       "    <tr>\n",
       "      <th>count</th>\n",
       "      <td>5558.000000</td>\n",
       "      <td>5558.000000</td>\n",
       "    </tr>\n",
       "    <tr>\n",
       "      <th>mean</th>\n",
       "      <td>2012.775999</td>\n",
       "      <td>101.183699</td>\n",
       "    </tr>\n",
       "    <tr>\n",
       "      <th>std</th>\n",
       "      <td>9.836948</td>\n",
       "      <td>26.467317</td>\n",
       "    </tr>\n",
       "    <tr>\n",
       "      <th>min</th>\n",
       "      <td>1942.000000</td>\n",
       "      <td>3.000000</td>\n",
       "    </tr>\n",
       "    <tr>\n",
       "      <th>25%</th>\n",
       "      <td>2011.000000</td>\n",
       "      <td>88.000000</td>\n",
       "    </tr>\n",
       "    <tr>\n",
       "      <th>50%</th>\n",
       "      <td>2016.000000</td>\n",
       "      <td>99.000000</td>\n",
       "    </tr>\n",
       "    <tr>\n",
       "      <th>75%</th>\n",
       "      <td>2018.000000</td>\n",
       "      <td>115.000000</td>\n",
       "    </tr>\n",
       "    <tr>\n",
       "      <th>max</th>\n",
       "      <td>2021.000000</td>\n",
       "      <td>253.000000</td>\n",
       "    </tr>\n",
       "  </tbody>\n",
       "</table>\n",
       "</div>"
      ],
      "text/plain": [
       "       release_year     duration\n",
       "count   5558.000000  5558.000000\n",
       "mean    2012.775999   101.183699\n",
       "std        9.836948    26.467317\n",
       "min     1942.000000     3.000000\n",
       "25%     2011.000000    88.000000\n",
       "50%     2016.000000    99.000000\n",
       "75%     2018.000000   115.000000\n",
       "max     2021.000000   253.000000"
      ]
     },
     "execution_count": 57,
     "metadata": {},
     "output_type": "execute_result"
    }
   ],
   "source": [
    "net_movies_col.describe()"
   ]
  },
  {
   "cell_type": "code",
   "execution_count": 58,
   "id": "0cb400bd",
   "metadata": {},
   "outputs": [
    {
     "data": {
      "text/plain": [
       "(5558, 7)"
      ]
     },
     "execution_count": 58,
     "metadata": {},
     "output_type": "execute_result"
    }
   ],
   "source": [
    "net_movies_col.shape"
   ]
  },
  {
   "cell_type": "code",
   "execution_count": 59,
   "id": "ee238983",
   "metadata": {},
   "outputs": [
    {
     "name": "stdout",
     "output_type": "stream",
     "text": [
      "<class 'pandas.core.frame.DataFrame'>\n",
      "Int64Index: 5558 entries, 0 to 8806\n",
      "Data columns (total 7 columns):\n",
      " #   Column        Non-Null Count  Dtype \n",
      "---  ------        --------------  ----- \n",
      " 0   title         5558 non-null   object\n",
      " 1   country       5558 non-null   object\n",
      " 2   release_year  5558 non-null   int64 \n",
      " 3   duration      5558 non-null   int32 \n",
      " 4   rating        5558 non-null   object\n",
      " 5   listed_in     5558 non-null   object\n",
      " 6   director      5558 non-null   object\n",
      "dtypes: int32(1), int64(1), object(5)\n",
      "memory usage: 325.7+ KB\n"
     ]
    }
   ],
   "source": [
    "net_movies_col.info()"
   ]
  },
  {
   "cell_type": "markdown",
   "id": "97bb8eaf",
   "metadata": {},
   "source": [
    "Duration column has been changed to integers, missing values have been sorted\n",
    "Our data is ready to be visualized!!"
   ]
  },
  {
   "cell_type": "code",
   "execution_count": 60,
   "id": "2cdf8bbe",
   "metadata": {},
   "outputs": [
    {
     "data": {
      "image/png": "[encoded data removed]",
      "text/plain": [
       "<Figure size 864x576 with 1 Axes>"
      ]
     },
     "metadata": {
      "needs_background": "light"
     },
     "output_type": "display_data"
    }
   ],
   "source": [
    "#visualize using scatterplot\n",
    "#set the fig size\n",
    "fig = plt.figure(figsize=(12,8))\n",
    "\n",
    "plt.scatter(net_movies_col.release_year, net_movies_col.duration)\n",
    "plt.xlabel('Release Year')\n",
    "plt.ylabel('Duration')\n",
    "plt.title('Movie Duration by Year of Release')\n",
    "plt.show()"
   ]
  },
  {
   "cell_type": "markdown",
   "id": "98babc16",
   "metadata": {},
   "source": [
    "Have an idea of movies shorter than 60 minutes"
   ]
  },
  {
   "cell_type": "code",
   "execution_count": 61,
   "id": "d216766b",
   "metadata": {},
   "outputs": [
    {
     "name": "stdout",
     "output_type": "stream",
     "text": [
      "                                    title               country  release_year  \\\n",
      "279  Monster Hunter: Legends of the Guild  United States, Japan          2021   \n",
      "694                                 Aziza        Lebanon, Syria          2019   \n",
      "766               Alan Saldaña: Locked Up                Mexico          2021   \n",
      "769              From Stress to Happiness             Argentina          2020   \n",
      "991                           One Like It                 Egypt          2020   \n",
      "\n",
      "     duration rating                                          listed_in  \\\n",
      "279        59  TV-PG  Action & Adventure, Anime Features, Children &...   \n",
      "694        13  TV-PG               Comedies, Dramas, Independent Movies   \n",
      "766        49  TV-MA                                    Stand-Up Comedy   \n",
      "769        58   TV-G                Documentaries, International Movies   \n",
      "991        15   TV-G   Dramas, Independent Movies, International Movies   \n",
      "\n",
      "                              director  \n",
      "279                    Steven Yamamoto  \n",
      "694                     Soudade Kaadan  \n",
      "766                          Alex Díaz  \n",
      "769  Alejandro De Grazia, Juan Stadler  \n",
      "991                       Marwan Nabil  \n"
     ]
    }
   ],
   "source": [
    "#Filter for movies shorter than 60 minutes\n",
    "short_movies = net_movies_col[net_movies_col.duration < 60]\n",
    "print(short_movies.head())"
   ]
  },
  {
   "cell_type": "code",
   "execution_count": 62,
   "id": "f805c82f",
   "metadata": {},
   "outputs": [
    {
     "data": {
      "text/html": [
       "<style type=\"text/css\">\n",
       "#T_bd613_row0_col0, #T_bd613_row1_col1 {\n",
       "  background-color: #b40426;\n",
       "  color: #f1f1f1;\n",
       "}\n",
       "#T_bd613_row0_col1, #T_bd613_row1_col0 {\n",
       "  background-color: #3b4cc0;\n",
       "  color: #f1f1f1;\n",
       "}\n",
       "</style>\n",
       "<table id=\"T_bd613_\">\n",
       "  <thead>\n",
       "    <tr>\n",
       "      <th class=\"blank level0\" >&nbsp;</th>\n",
       "      <th class=\"col_heading level0 col0\" >release_year</th>\n",
       "      <th class=\"col_heading level0 col1\" >duration</th>\n",
       "    </tr>\n",
       "  </thead>\n",
       "  <tbody>\n",
       "    <tr>\n",
       "      <th id=\"T_bd613_level0_row0\" class=\"row_heading level0 row0\" >release_year</th>\n",
       "      <td id=\"T_bd613_row0_col0\" class=\"data row0 col0\" >1.000000</td>\n",
       "      <td id=\"T_bd613_row0_col1\" class=\"data row0 col1\" >-0.195904</td>\n",
       "    </tr>\n",
       "    <tr>\n",
       "      <th id=\"T_bd613_level0_row1\" class=\"row_heading level0 row1\" >duration</th>\n",
       "      <td id=\"T_bd613_row1_col0\" class=\"data row1 col0\" >-0.195904</td>\n",
       "      <td id=\"T_bd613_row1_col1\" class=\"data row1 col1\" >1.000000</td>\n",
       "    </tr>\n",
       "  </tbody>\n",
       "</table>\n"
      ],
      "text/plain": [
       "<pandas.io.formats.style.Styler at 0x1a6772b3670>"
      ]
     },
     "execution_count": 62,
     "metadata": {},
     "output_type": "execute_result"
    }
   ],
   "source": [
    "#visualize using correlation matrix\n",
    "#To get a pictorial representation to understand the correlation between columns\n",
    "corr = net_movies_col.corr()\n",
    "\n",
    "corr.style.background_gradient(cmap='coolwarm')"
   ]
  },
  {
   "cell_type": "code",
   "execution_count": 63,
   "id": "6a0ec43b",
   "metadata": {},
   "outputs": [
    {
     "data": {
      "image/png": "[encoded data removed]",
      "text/plain": [
       "<Figure size 432x288 with 2 Axes>"
      ]
     },
     "metadata": {
      "needs_background": "light"
     },
     "output_type": "display_data"
    }
   ],
   "source": [
    "#visualize with seaborn heatmap\n",
    "import seaborn as sns\n",
    "sns.heatmap(net_movies_col.corr());"
   ]
  },
  {
   "cell_type": "markdown",
   "id": "d8e923d5",
   "metadata": {},
   "source": [
    "Countries with longest movie duration"
   ]
  },
  {
   "cell_type": "code",
   "execution_count": 64,
   "id": "1852d67b",
   "metadata": {},
   "outputs": [
    {
     "name": "stdout",
     "output_type": "stream",
     "text": [
      "                   title                                            country  \\\n",
      "0   Dick Johnson Is Dead                                      United States   \n",
      "7                Sankofa  United States, Ghana, Burkina Faso, United Kin...   \n",
      "9           The Starling                                      United States   \n",
      "12          Je Suis Karl                            Germany, Czech Republic   \n",
      "24                 Jeans                                              India   \n",
      "\n",
      "    release_year  duration rating  \\\n",
      "0           2020        90  PG-13   \n",
      "7           1993       125  TV-MA   \n",
      "9           2021       104  PG-13   \n",
      "12          2021       127  TV-MA   \n",
      "24          1998       166  TV-14   \n",
      "\n",
      "                                           listed_in             director  \n",
      "0                                      Documentaries      Kirsten Johnson  \n",
      "7   Dramas, Independent Movies, International Movies         Haile Gerima  \n",
      "9                                   Comedies, Dramas       Theodore Melfi  \n",
      "12                      Dramas, International Movies  Christian Schwochow  \n",
      "24   Comedies, International Movies, Romantic Movies           S. Shankar  \n"
     ]
    }
   ],
   "source": [
    "#Filter for movies longer than 60 minutes\n",
    "long_movies = net_movies_col[net_movies_col.duration > 60]\n",
    "print(long_movies.head())"
   ]
  },
  {
   "cell_type": "code",
   "execution_count": 65,
   "id": "3200ea46",
   "metadata": {},
   "outputs": [
    {
     "name": "stdout",
     "output_type": "stream",
     "text": [
      "                                              country  duration\n",
      "0                                       United States        90\n",
      "7   United States, Ghana, Burkina Faso, United Kin...       125\n",
      "9                                       United States       104\n",
      "12                            Germany, Czech Republic       127\n",
      "24                                              India       166\n"
     ]
    }
   ],
   "source": [
    "# Countries that have long movie durations\n",
    "Countries_long_movies = long_movies[['country', 'duration']]\n",
    "print(Countries_long_movies.head())"
   ]
  },
  {
   "cell_type": "markdown",
   "id": "c50caa0c",
   "metadata": {},
   "source": [
    "Sorting the data to know the shortest and longest movies"
   ]
  },
  {
   "cell_type": "code",
   "execution_count": 66,
   "id": "3370981f",
   "metadata": {},
   "outputs": [
    {
     "name": "stdout",
     "output_type": "stream",
     "text": [
      "title       #Rucker50\n",
      "duration            3\n",
      "dtype: object\n"
     ]
    }
   ],
   "source": [
    "shortest_movie = short_movies[['title', 'duration']]\n",
    "print(shortest_movie.min())"
   ]
  },
  {
   "cell_type": "code",
   "execution_count": 67,
   "id": "d8b1a0e2",
   "metadata": {},
   "outputs": [
    {
     "name": "stdout",
     "output_type": "stream",
     "text": [
      "title       반드시 잡는다\n",
      "duration        253\n",
      "dtype: object\n"
     ]
    }
   ],
   "source": [
    "longest_movie = long_movies[['title', 'duration']]\n",
    "print(longest_movie.max())"
   ]
  },
  {
   "cell_type": "markdown",
   "id": "ca7cffdc",
   "metadata": {},
   "source": [
    "Years Most Movies were Produced"
   ]
  },
  {
   "cell_type": "code",
   "execution_count": 68,
   "id": "2ad102e8",
   "metadata": {},
   "outputs": [
    {
     "name": "stdout",
     "output_type": "stream",
     "text": [
      "2017    713\n",
      "2018    687\n",
      "2016    628\n",
      "2019    542\n",
      "2020    444\n",
      "Name: release_year, dtype: int64\n"
     ]
    }
   ],
   "source": [
    "years_most_movies = net_movies_col['release_year'].value_counts()\n",
    "print(years_most_movies.head())"
   ]
  },
  {
   "cell_type": "code",
   "execution_count": 69,
   "id": "61fab1b8",
   "metadata": {},
   "outputs": [
    {
     "name": "stdout",
     "output_type": "stream",
     "text": [
      "713\n"
     ]
    }
   ],
   "source": [
    "print(max(years_most_movies))"
   ]
  },
  {
   "cell_type": "markdown",
   "id": "a77f860f",
   "metadata": {},
   "source": [
    "Countries that Produced Most Movies Per Year "
   ]
  },
  {
   "cell_type": "code",
   "execution_count": 70,
   "id": "1566205d",
   "metadata": {},
   "outputs": [
    {
     "data": {
      "text/plain": [
       "country        release_year\n",
       "United States  2017            276\n",
       "               2018            234\n",
       "               2019            208\n",
       "               2016            207\n",
       "               2020            169\n",
       "               2015            110\n",
       "India          2017             96\n",
       "               2018             79\n",
       "United States  2014             73\n",
       "India          2019             72\n",
       "               2016             71\n",
       "United States  2013             69\n",
       "India          2020             59\n",
       "United States  2012             57\n",
       "India          2015             52\n",
       "               2013             51\n",
       "United States  2010             47\n",
       "               2021             45\n",
       "India          2014             45\n",
       "United States  2011             44\n",
       "dtype: int64"
      ]
     },
     "execution_count": 70,
     "metadata": {},
     "output_type": "execute_result"
    }
   ],
   "source": [
    "net_movies_col[['country', 'release_year']].value_counts().head(20)"
   ]
  },
  {
   "cell_type": "markdown",
   "id": "e5837183",
   "metadata": {},
   "source": [
    "Movies with PG-13 Ratings"
   ]
  },
  {
   "cell_type": "code",
   "execution_count": 71,
   "id": "924d74e5",
   "metadata": {},
   "outputs": [
    {
     "data": {
      "text/html": [
       "<div>\n",
       "<style scoped>\n",
       "    .dataframe tbody tr th:only-of-type {\n",
       "        vertical-align: middle;\n",
       "    }\n",
       "\n",
       "    .dataframe tbody tr th {\n",
       "        vertical-align: top;\n",
       "    }\n",
       "\n",
       "    .dataframe thead th {\n",
       "        text-align: right;\n",
       "    }\n",
       "</style>\n",
       "<table border=\"1\" class=\"dataframe\">\n",
       "  <thead>\n",
       "    <tr style=\"text-align: right;\">\n",
       "      <th></th>\n",
       "      <th>title</th>\n",
       "      <th>country</th>\n",
       "      <th>release_year</th>\n",
       "      <th>duration</th>\n",
       "      <th>rating</th>\n",
       "      <th>listed_in</th>\n",
       "      <th>director</th>\n",
       "    </tr>\n",
       "  </thead>\n",
       "  <tbody>\n",
       "    <tr>\n",
       "      <th>0</th>\n",
       "      <td>Dick Johnson Is Dead</td>\n",
       "      <td>United States</td>\n",
       "      <td>2020</td>\n",
       "      <td>90</td>\n",
       "      <td>PG-13</td>\n",
       "      <td>Documentaries</td>\n",
       "      <td>Kirsten Johnson</td>\n",
       "    </tr>\n",
       "    <tr>\n",
       "      <th>7</th>\n",
       "      <td>Sankofa</td>\n",
       "      <td>United States, Ghana, Burkina Faso, United Kin...</td>\n",
       "      <td>1993</td>\n",
       "      <td>125</td>\n",
       "      <td>TV-MA</td>\n",
       "      <td>Dramas, Independent Movies, International Movies</td>\n",
       "      <td>Haile Gerima</td>\n",
       "    </tr>\n",
       "    <tr>\n",
       "      <th>9</th>\n",
       "      <td>The Starling</td>\n",
       "      <td>United States</td>\n",
       "      <td>2021</td>\n",
       "      <td>104</td>\n",
       "      <td>PG-13</td>\n",
       "      <td>Comedies, Dramas</td>\n",
       "      <td>Theodore Melfi</td>\n",
       "    </tr>\n",
       "    <tr>\n",
       "      <th>12</th>\n",
       "      <td>Je Suis Karl</td>\n",
       "      <td>Germany, Czech Republic</td>\n",
       "      <td>2021</td>\n",
       "      <td>127</td>\n",
       "      <td>TV-MA</td>\n",
       "      <td>Dramas, International Movies</td>\n",
       "      <td>Christian Schwochow</td>\n",
       "    </tr>\n",
       "    <tr>\n",
       "      <th>24</th>\n",
       "      <td>Jeans</td>\n",
       "      <td>India</td>\n",
       "      <td>1998</td>\n",
       "      <td>166</td>\n",
       "      <td>TV-14</td>\n",
       "      <td>Comedies, International Movies, Romantic Movies</td>\n",
       "      <td>S. Shankar</td>\n",
       "    </tr>\n",
       "    <tr>\n",
       "      <th>...</th>\n",
       "      <td>...</td>\n",
       "      <td>...</td>\n",
       "      <td>...</td>\n",
       "      <td>...</td>\n",
       "      <td>...</td>\n",
       "      <td>...</td>\n",
       "      <td>...</td>\n",
       "    </tr>\n",
       "    <tr>\n",
       "      <th>8801</th>\n",
       "      <td>Zinzana</td>\n",
       "      <td>United Arab Emirates, Jordan</td>\n",
       "      <td>2015</td>\n",
       "      <td>96</td>\n",
       "      <td>TV-MA</td>\n",
       "      <td>Dramas, International Movies, Thrillers</td>\n",
       "      <td>Majid Al Ansari</td>\n",
       "    </tr>\n",
       "    <tr>\n",
       "      <th>8802</th>\n",
       "      <td>Zodiac</td>\n",
       "      <td>United States</td>\n",
       "      <td>2007</td>\n",
       "      <td>158</td>\n",
       "      <td>R</td>\n",
       "      <td>Cult Movies, Dramas, Thrillers</td>\n",
       "      <td>David Fincher</td>\n",
       "    </tr>\n",
       "    <tr>\n",
       "      <th>8804</th>\n",
       "      <td>Zombieland</td>\n",
       "      <td>United States</td>\n",
       "      <td>2009</td>\n",
       "      <td>88</td>\n",
       "      <td>R</td>\n",
       "      <td>Comedies, Horror Movies</td>\n",
       "      <td>Ruben Fleischer</td>\n",
       "    </tr>\n",
       "    <tr>\n",
       "      <th>8805</th>\n",
       "      <td>Zoom</td>\n",
       "      <td>United States</td>\n",
       "      <td>2006</td>\n",
       "      <td>88</td>\n",
       "      <td>PG</td>\n",
       "      <td>Children &amp; Family Movies, Comedies</td>\n",
       "      <td>Peter Hewitt</td>\n",
       "    </tr>\n",
       "    <tr>\n",
       "      <th>8806</th>\n",
       "      <td>Zubaan</td>\n",
       "      <td>India</td>\n",
       "      <td>2015</td>\n",
       "      <td>111</td>\n",
       "      <td>TV-14</td>\n",
       "      <td>Dramas, International Movies, Music &amp; Musicals</td>\n",
       "      <td>Mozez Singh</td>\n",
       "    </tr>\n",
       "  </tbody>\n",
       "</table>\n",
       "<p>5558 rows × 7 columns</p>\n",
       "</div>"
      ],
      "text/plain": [
       "                     title                                            country  \\\n",
       "0     Dick Johnson Is Dead                                      United States   \n",
       "7                  Sankofa  United States, Ghana, Burkina Faso, United Kin...   \n",
       "9             The Starling                                      United States   \n",
       "12            Je Suis Karl                            Germany, Czech Republic   \n",
       "24                   Jeans                                              India   \n",
       "...                    ...                                                ...   \n",
       "8801               Zinzana                       United Arab Emirates, Jordan   \n",
       "8802                Zodiac                                      United States   \n",
       "8804            Zombieland                                      United States   \n",
       "8805                  Zoom                                      United States   \n",
       "8806                Zubaan                                              India   \n",
       "\n",
       "      release_year  duration rating  \\\n",
       "0             2020        90  PG-13   \n",
       "7             1993       125  TV-MA   \n",
       "9             2021       104  PG-13   \n",
       "12            2021       127  TV-MA   \n",
       "24            1998       166  TV-14   \n",
       "...            ...       ...    ...   \n",
       "8801          2015        96  TV-MA   \n",
       "8802          2007       158      R   \n",
       "8804          2009        88      R   \n",
       "8805          2006        88     PG   \n",
       "8806          2015       111  TV-14   \n",
       "\n",
       "                                             listed_in             director  \n",
       "0                                        Documentaries      Kirsten Johnson  \n",
       "7     Dramas, Independent Movies, International Movies         Haile Gerima  \n",
       "9                                     Comedies, Dramas       Theodore Melfi  \n",
       "12                        Dramas, International Movies  Christian Schwochow  \n",
       "24     Comedies, International Movies, Romantic Movies           S. Shankar  \n",
       "...                                                ...                  ...  \n",
       "8801           Dramas, International Movies, Thrillers      Majid Al Ansari  \n",
       "8802                    Cult Movies, Dramas, Thrillers        David Fincher  \n",
       "8804                           Comedies, Horror Movies      Ruben Fleischer  \n",
       "8805                Children & Family Movies, Comedies         Peter Hewitt  \n",
       "8806    Dramas, International Movies, Music & Musicals          Mozez Singh  \n",
       "\n",
       "[5558 rows x 7 columns]"
      ]
     },
     "execution_count": 71,
     "metadata": {},
     "output_type": "execute_result"
    }
   ],
   "source": [
    "net_movies_col"
   ]
  },
  {
   "cell_type": "code",
   "execution_count": 72,
   "id": "a6c88709",
   "metadata": {},
   "outputs": [
    {
     "data": {
      "text/html": [
       "<div>\n",
       "<style scoped>\n",
       "    .dataframe tbody tr th:only-of-type {\n",
       "        vertical-align: middle;\n",
       "    }\n",
       "\n",
       "    .dataframe tbody tr th {\n",
       "        vertical-align: top;\n",
       "    }\n",
       "\n",
       "    .dataframe thead th {\n",
       "        text-align: right;\n",
       "    }\n",
       "</style>\n",
       "<table border=\"1\" class=\"dataframe\">\n",
       "  <thead>\n",
       "    <tr style=\"text-align: right;\">\n",
       "      <th></th>\n",
       "      <th>title</th>\n",
       "      <th>country</th>\n",
       "      <th>release_year</th>\n",
       "      <th>duration</th>\n",
       "      <th>rating</th>\n",
       "      <th>listed_in</th>\n",
       "      <th>director</th>\n",
       "    </tr>\n",
       "  </thead>\n",
       "  <tbody>\n",
       "    <tr>\n",
       "      <th>0</th>\n",
       "      <td>Dick Johnson Is Dead</td>\n",
       "      <td>United States</td>\n",
       "      <td>2020</td>\n",
       "      <td>90</td>\n",
       "      <td>PG-13</td>\n",
       "      <td>Documentaries</td>\n",
       "      <td>Kirsten Johnson</td>\n",
       "    </tr>\n",
       "    <tr>\n",
       "      <th>9</th>\n",
       "      <td>The Starling</td>\n",
       "      <td>United States</td>\n",
       "      <td>2021</td>\n",
       "      <td>104</td>\n",
       "      <td>PG-13</td>\n",
       "      <td>Comedies, Dramas</td>\n",
       "      <td>Theodore Melfi</td>\n",
       "    </tr>\n",
       "    <tr>\n",
       "      <th>27</th>\n",
       "      <td>Grown Ups</td>\n",
       "      <td>United States</td>\n",
       "      <td>2010</td>\n",
       "      <td>103</td>\n",
       "      <td>PG-13</td>\n",
       "      <td>Comedies</td>\n",
       "      <td>Dennis Dugan</td>\n",
       "    </tr>\n",
       "    <tr>\n",
       "      <th>28</th>\n",
       "      <td>Dark Skies</td>\n",
       "      <td>United States</td>\n",
       "      <td>2013</td>\n",
       "      <td>97</td>\n",
       "      <td>PG-13</td>\n",
       "      <td>Horror Movies, Sci-Fi &amp; Fantasy</td>\n",
       "      <td>Scott Stewart</td>\n",
       "    </tr>\n",
       "    <tr>\n",
       "      <th>29</th>\n",
       "      <td>Paranoia</td>\n",
       "      <td>United States, India, France</td>\n",
       "      <td>2013</td>\n",
       "      <td>106</td>\n",
       "      <td>PG-13</td>\n",
       "      <td>Thrillers</td>\n",
       "      <td>Robert Luketic</td>\n",
       "    </tr>\n",
       "    <tr>\n",
       "      <th>...</th>\n",
       "      <td>...</td>\n",
       "      <td>...</td>\n",
       "      <td>...</td>\n",
       "      <td>...</td>\n",
       "      <td>...</td>\n",
       "      <td>...</td>\n",
       "      <td>...</td>\n",
       "    </tr>\n",
       "    <tr>\n",
       "      <th>8757</th>\n",
       "      <td>World Trade Center</td>\n",
       "      <td>United States</td>\n",
       "      <td>2006</td>\n",
       "      <td>129</td>\n",
       "      <td>PG-13</td>\n",
       "      <td>Action &amp; Adventure, Dramas</td>\n",
       "      <td>Oliver Stone</td>\n",
       "    </tr>\n",
       "    <tr>\n",
       "      <th>8764</th>\n",
       "      <td>Wyatt Earp</td>\n",
       "      <td>United States</td>\n",
       "      <td>1994</td>\n",
       "      <td>191</td>\n",
       "      <td>PG-13</td>\n",
       "      <td>Action &amp; Adventure</td>\n",
       "      <td>Lawrence Kasdan</td>\n",
       "    </tr>\n",
       "    <tr>\n",
       "      <th>8766</th>\n",
       "      <td>XXx</td>\n",
       "      <td>United States</td>\n",
       "      <td>2002</td>\n",
       "      <td>124</td>\n",
       "      <td>PG-13</td>\n",
       "      <td>Action &amp; Adventure, Sports Movies</td>\n",
       "      <td>Rob Cohen</td>\n",
       "    </tr>\n",
       "    <tr>\n",
       "      <th>8767</th>\n",
       "      <td>XXX: State of the Union</td>\n",
       "      <td>United States</td>\n",
       "      <td>2005</td>\n",
       "      <td>101</td>\n",
       "      <td>PG-13</td>\n",
       "      <td>Action &amp; Adventure</td>\n",
       "      <td>Lee Tamahori</td>\n",
       "    </tr>\n",
       "    <tr>\n",
       "      <th>8782</th>\n",
       "      <td>Yoga Hosers</td>\n",
       "      <td>United States</td>\n",
       "      <td>2016</td>\n",
       "      <td>88</td>\n",
       "      <td>PG-13</td>\n",
       "      <td>Comedies, Horror Movies, Independent Movies</td>\n",
       "      <td>Kevin Smith</td>\n",
       "    </tr>\n",
       "  </tbody>\n",
       "</table>\n",
       "<p>481 rows × 7 columns</p>\n",
       "</div>"
      ],
      "text/plain": [
       "                        title                       country  release_year  \\\n",
       "0        Dick Johnson Is Dead                 United States          2020   \n",
       "9                The Starling                 United States          2021   \n",
       "27                  Grown Ups                 United States          2010   \n",
       "28                 Dark Skies                 United States          2013   \n",
       "29                   Paranoia  United States, India, France          2013   \n",
       "...                       ...                           ...           ...   \n",
       "8757       World Trade Center                 United States          2006   \n",
       "8764               Wyatt Earp                 United States          1994   \n",
       "8766                      XXx                 United States          2002   \n",
       "8767  XXX: State of the Union                 United States          2005   \n",
       "8782              Yoga Hosers                 United States          2016   \n",
       "\n",
       "      duration rating                                    listed_in  \\\n",
       "0           90  PG-13                                Documentaries   \n",
       "9          104  PG-13                             Comedies, Dramas   \n",
       "27         103  PG-13                                     Comedies   \n",
       "28          97  PG-13              Horror Movies, Sci-Fi & Fantasy   \n",
       "29         106  PG-13                                    Thrillers   \n",
       "...        ...    ...                                          ...   \n",
       "8757       129  PG-13                   Action & Adventure, Dramas   \n",
       "8764       191  PG-13                           Action & Adventure   \n",
       "8766       124  PG-13            Action & Adventure, Sports Movies   \n",
       "8767       101  PG-13                           Action & Adventure   \n",
       "8782        88  PG-13  Comedies, Horror Movies, Independent Movies   \n",
       "\n",
       "             director  \n",
       "0     Kirsten Johnson  \n",
       "9      Theodore Melfi  \n",
       "27       Dennis Dugan  \n",
       "28      Scott Stewart  \n",
       "29     Robert Luketic  \n",
       "...               ...  \n",
       "8757     Oliver Stone  \n",
       "8764  Lawrence Kasdan  \n",
       "8766        Rob Cohen  \n",
       "8767     Lee Tamahori  \n",
       "8782      Kevin Smith  \n",
       "\n",
       "[481 rows x 7 columns]"
      ]
     },
     "execution_count": 72,
     "metadata": {},
     "output_type": "execute_result"
    }
   ],
   "source": [
    "col = net_movies_col[net_movies_col['rating'] == 'PG-13'] \n",
    "col"
   ]
  },
  {
   "cell_type": "code",
   "execution_count": 73,
   "id": "f3a38f93",
   "metadata": {},
   "outputs": [
    {
     "data": {
      "text/html": [
       "<div>\n",
       "<style scoped>\n",
       "    .dataframe tbody tr th:only-of-type {\n",
       "        vertical-align: middle;\n",
       "    }\n",
       "\n",
       "    .dataframe tbody tr th {\n",
       "        vertical-align: top;\n",
       "    }\n",
       "\n",
       "    .dataframe thead th {\n",
       "        text-align: right;\n",
       "    }\n",
       "</style>\n",
       "<table border=\"1\" class=\"dataframe\">\n",
       "  <thead>\n",
       "    <tr style=\"text-align: right;\">\n",
       "      <th></th>\n",
       "      <th>title</th>\n",
       "      <th>rating</th>\n",
       "    </tr>\n",
       "  </thead>\n",
       "  <tbody>\n",
       "    <tr>\n",
       "      <th>0</th>\n",
       "      <td>Dick Johnson Is Dead</td>\n",
       "      <td>PG-13</td>\n",
       "    </tr>\n",
       "    <tr>\n",
       "      <th>9</th>\n",
       "      <td>The Starling</td>\n",
       "      <td>PG-13</td>\n",
       "    </tr>\n",
       "    <tr>\n",
       "      <th>27</th>\n",
       "      <td>Grown Ups</td>\n",
       "      <td>PG-13</td>\n",
       "    </tr>\n",
       "    <tr>\n",
       "      <th>28</th>\n",
       "      <td>Dark Skies</td>\n",
       "      <td>PG-13</td>\n",
       "    </tr>\n",
       "    <tr>\n",
       "      <th>29</th>\n",
       "      <td>Paranoia</td>\n",
       "      <td>PG-13</td>\n",
       "    </tr>\n",
       "    <tr>\n",
       "      <th>...</th>\n",
       "      <td>...</td>\n",
       "      <td>...</td>\n",
       "    </tr>\n",
       "    <tr>\n",
       "      <th>8757</th>\n",
       "      <td>World Trade Center</td>\n",
       "      <td>PG-13</td>\n",
       "    </tr>\n",
       "    <tr>\n",
       "      <th>8764</th>\n",
       "      <td>Wyatt Earp</td>\n",
       "      <td>PG-13</td>\n",
       "    </tr>\n",
       "    <tr>\n",
       "      <th>8766</th>\n",
       "      <td>XXx</td>\n",
       "      <td>PG-13</td>\n",
       "    </tr>\n",
       "    <tr>\n",
       "      <th>8767</th>\n",
       "      <td>XXX: State of the Union</td>\n",
       "      <td>PG-13</td>\n",
       "    </tr>\n",
       "    <tr>\n",
       "      <th>8782</th>\n",
       "      <td>Yoga Hosers</td>\n",
       "      <td>PG-13</td>\n",
       "    </tr>\n",
       "  </tbody>\n",
       "</table>\n",
       "<p>481 rows × 2 columns</p>\n",
       "</div>"
      ],
      "text/plain": [
       "                        title rating\n",
       "0        Dick Johnson Is Dead  PG-13\n",
       "9                The Starling  PG-13\n",
       "27                  Grown Ups  PG-13\n",
       "28                 Dark Skies  PG-13\n",
       "29                   Paranoia  PG-13\n",
       "...                       ...    ...\n",
       "8757       World Trade Center  PG-13\n",
       "8764               Wyatt Earp  PG-13\n",
       "8766                      XXx  PG-13\n",
       "8767  XXX: State of the Union  PG-13\n",
       "8782              Yoga Hosers  PG-13\n",
       "\n",
       "[481 rows x 2 columns]"
      ]
     },
     "execution_count": 73,
     "metadata": {},
     "output_type": "execute_result"
    }
   ],
   "source": [
    "#movies with PG-13\n",
    "col2 = col[['title', 'rating']]\n",
    "col2"
   ]
  },
  {
   "cell_type": "markdown",
   "id": "d049cb5a",
   "metadata": {},
   "source": [
    "Analysis of COVID Period (2020) and Post COVID period (2021)\n",
    "\n",
    "How many Movies were Produced during those periods"
   ]
  },
  {
   "cell_type": "code",
   "execution_count": 74,
   "id": "52e33f53",
   "metadata": {},
   "outputs": [
    {
     "data": {
      "text/html": [
       "<div>\n",
       "<style scoped>\n",
       "    .dataframe tbody tr th:only-of-type {\n",
       "        vertical-align: middle;\n",
       "    }\n",
       "\n",
       "    .dataframe tbody tr th {\n",
       "        vertical-align: top;\n",
       "    }\n",
       "\n",
       "    .dataframe thead th {\n",
       "        text-align: right;\n",
       "    }\n",
       "</style>\n",
       "<table border=\"1\" class=\"dataframe\">\n",
       "  <thead>\n",
       "    <tr style=\"text-align: right;\">\n",
       "      <th></th>\n",
       "      <th>title</th>\n",
       "      <th>country</th>\n",
       "      <th>release_year</th>\n",
       "      <th>duration</th>\n",
       "      <th>rating</th>\n",
       "      <th>listed_in</th>\n",
       "      <th>director</th>\n",
       "    </tr>\n",
       "  </thead>\n",
       "  <tbody>\n",
       "    <tr>\n",
       "      <th>0</th>\n",
       "      <td>Dick Johnson Is Dead</td>\n",
       "      <td>United States</td>\n",
       "      <td>2020</td>\n",
       "      <td>90</td>\n",
       "      <td>PG-13</td>\n",
       "      <td>Documentaries</td>\n",
       "      <td>Kirsten Johnson</td>\n",
       "    </tr>\n",
       "    <tr>\n",
       "      <th>84</th>\n",
       "      <td>Omo Ghetto: the Saga</td>\n",
       "      <td>Nigeria</td>\n",
       "      <td>2020</td>\n",
       "      <td>147</td>\n",
       "      <td>TV-MA</td>\n",
       "      <td>Action &amp; Adventure, Comedies, Dramas</td>\n",
       "      <td>JJC Skillz, Funke Akindele</td>\n",
       "    </tr>\n",
       "    <tr>\n",
       "      <th>126</th>\n",
       "      <td>Shikara</td>\n",
       "      <td>India</td>\n",
       "      <td>2020</td>\n",
       "      <td>115</td>\n",
       "      <td>TV-14</td>\n",
       "      <td>Dramas, International Movies, Romantic Movies</td>\n",
       "      <td>Vidhu Vinod Chopra</td>\n",
       "    </tr>\n",
       "    <tr>\n",
       "      <th>227</th>\n",
       "      <td>Really Love</td>\n",
       "      <td>United States</td>\n",
       "      <td>2020</td>\n",
       "      <td>95</td>\n",
       "      <td>TV-MA</td>\n",
       "      <td>Dramas, Independent Movies, Romantic Movies</td>\n",
       "      <td>Angel Kristi Williams</td>\n",
       "    </tr>\n",
       "    <tr>\n",
       "      <th>229</th>\n",
       "      <td>The Old Ways</td>\n",
       "      <td>United States</td>\n",
       "      <td>2020</td>\n",
       "      <td>90</td>\n",
       "      <td>TV-MA</td>\n",
       "      <td>Horror Movies</td>\n",
       "      <td>Christopher Alender</td>\n",
       "    </tr>\n",
       "  </tbody>\n",
       "</table>\n",
       "</div>"
      ],
      "text/plain": [
       "                    title        country  release_year  duration rating  \\\n",
       "0    Dick Johnson Is Dead  United States          2020        90  PG-13   \n",
       "84   Omo Ghetto: the Saga        Nigeria          2020       147  TV-MA   \n",
       "126               Shikara          India          2020       115  TV-14   \n",
       "227           Really Love  United States          2020        95  TV-MA   \n",
       "229          The Old Ways  United States          2020        90  TV-MA   \n",
       "\n",
       "                                         listed_in                    director  \n",
       "0                                    Documentaries             Kirsten Johnson  \n",
       "84            Action & Adventure, Comedies, Dramas  JJC Skillz, Funke Akindele  \n",
       "126  Dramas, International Movies, Romantic Movies          Vidhu Vinod Chopra  \n",
       "227    Dramas, Independent Movies, Romantic Movies       Angel Kristi Williams  \n",
       "229                                  Horror Movies         Christopher Alender  "
      ]
     },
     "execution_count": 74,
     "metadata": {},
     "output_type": "execute_result"
    }
   ],
   "source": [
    "COVID_year = net_movies_col[net_movies_col['release_year'] == 2020]\n",
    "COVID_year.head()"
   ]
  },
  {
   "cell_type": "code",
   "execution_count": 75,
   "id": "98ad60fb",
   "metadata": {},
   "outputs": [
    {
     "data": {
      "text/html": [
       "<div>\n",
       "<style scoped>\n",
       "    .dataframe tbody tr th:only-of-type {\n",
       "        vertical-align: middle;\n",
       "    }\n",
       "\n",
       "    .dataframe tbody tr th {\n",
       "        vertical-align: top;\n",
       "    }\n",
       "\n",
       "    .dataframe thead th {\n",
       "        text-align: right;\n",
       "    }\n",
       "</style>\n",
       "<table border=\"1\" class=\"dataframe\">\n",
       "  <thead>\n",
       "    <tr style=\"text-align: right;\">\n",
       "      <th></th>\n",
       "      <th>title</th>\n",
       "      <th>country</th>\n",
       "      <th>release_year</th>\n",
       "      <th>duration</th>\n",
       "      <th>rating</th>\n",
       "      <th>listed_in</th>\n",
       "      <th>director</th>\n",
       "    </tr>\n",
       "  </thead>\n",
       "  <tbody>\n",
       "    <tr>\n",
       "      <th>9</th>\n",
       "      <td>The Starling</td>\n",
       "      <td>United States</td>\n",
       "      <td>2021</td>\n",
       "      <td>104</td>\n",
       "      <td>PG-13</td>\n",
       "      <td>Comedies, Dramas</td>\n",
       "      <td>Theodore Melfi</td>\n",
       "    </tr>\n",
       "    <tr>\n",
       "      <th>12</th>\n",
       "      <td>Je Suis Karl</td>\n",
       "      <td>Germany, Czech Republic</td>\n",
       "      <td>2021</td>\n",
       "      <td>127</td>\n",
       "      <td>TV-MA</td>\n",
       "      <td>Dramas, International Movies</td>\n",
       "      <td>Christian Schwochow</td>\n",
       "    </tr>\n",
       "    <tr>\n",
       "      <th>81</th>\n",
       "      <td>Kate</td>\n",
       "      <td>United States</td>\n",
       "      <td>2021</td>\n",
       "      <td>106</td>\n",
       "      <td>R</td>\n",
       "      <td>Action &amp; Adventure</td>\n",
       "      <td>Cedric Nicolas-Troyan</td>\n",
       "    </tr>\n",
       "    <tr>\n",
       "      <th>91</th>\n",
       "      <td>The Women and the Murderer</td>\n",
       "      <td>France</td>\n",
       "      <td>2021</td>\n",
       "      <td>92</td>\n",
       "      <td>TV-14</td>\n",
       "      <td>Documentaries, International Movies</td>\n",
       "      <td>Mona Achache, Patricia Tourancheau</td>\n",
       "    </tr>\n",
       "    <tr>\n",
       "      <th>101</th>\n",
       "      <td>Untold: Breaking Point</td>\n",
       "      <td>United States</td>\n",
       "      <td>2021</td>\n",
       "      <td>80</td>\n",
       "      <td>TV-MA</td>\n",
       "      <td>Documentaries, Sports Movies</td>\n",
       "      <td>Chapman Way, Maclain Way</td>\n",
       "    </tr>\n",
       "  </tbody>\n",
       "</table>\n",
       "</div>"
      ],
      "text/plain": [
       "                          title                  country  release_year  \\\n",
       "9                  The Starling            United States          2021   \n",
       "12                 Je Suis Karl  Germany, Czech Republic          2021   \n",
       "81                         Kate            United States          2021   \n",
       "91   The Women and the Murderer                   France          2021   \n",
       "101      Untold: Breaking Point            United States          2021   \n",
       "\n",
       "     duration rating                            listed_in  \\\n",
       "9         104  PG-13                     Comedies, Dramas   \n",
       "12        127  TV-MA         Dramas, International Movies   \n",
       "81        106      R                   Action & Adventure   \n",
       "91         92  TV-14  Documentaries, International Movies   \n",
       "101        80  TV-MA         Documentaries, Sports Movies   \n",
       "\n",
       "                               director  \n",
       "9                        Theodore Melfi  \n",
       "12                  Christian Schwochow  \n",
       "81                Cedric Nicolas-Troyan  \n",
       "91   Mona Achache, Patricia Tourancheau  \n",
       "101            Chapman Way, Maclain Way  "
      ]
     },
     "execution_count": 75,
     "metadata": {},
     "output_type": "execute_result"
    }
   ],
   "source": [
    "Post_COVID = net_movies_col[net_movies_col['release_year'] == 2021]\n",
    "Post_COVID.head()"
   ]
  },
  {
   "cell_type": "code",
   "execution_count": 76,
   "id": "183a060f",
   "metadata": {},
   "outputs": [
    {
     "data": {
      "text/html": [
       "<div>\n",
       "<style scoped>\n",
       "    .dataframe tbody tr th:only-of-type {\n",
       "        vertical-align: middle;\n",
       "    }\n",
       "\n",
       "    .dataframe tbody tr th {\n",
       "        vertical-align: top;\n",
       "    }\n",
       "\n",
       "    .dataframe thead th {\n",
       "        text-align: right;\n",
       "    }\n",
       "</style>\n",
       "<table border=\"1\" class=\"dataframe\">\n",
       "  <thead>\n",
       "    <tr style=\"text-align: right;\">\n",
       "      <th></th>\n",
       "      <th>title</th>\n",
       "      <th>release_year</th>\n",
       "    </tr>\n",
       "  </thead>\n",
       "  <tbody>\n",
       "    <tr>\n",
       "      <th>0</th>\n",
       "      <td>Dick Johnson Is Dead</td>\n",
       "      <td>2020</td>\n",
       "    </tr>\n",
       "    <tr>\n",
       "      <th>84</th>\n",
       "      <td>Omo Ghetto: the Saga</td>\n",
       "      <td>2020</td>\n",
       "    </tr>\n",
       "    <tr>\n",
       "      <th>126</th>\n",
       "      <td>Shikara</td>\n",
       "      <td>2020</td>\n",
       "    </tr>\n",
       "    <tr>\n",
       "      <th>227</th>\n",
       "      <td>Really Love</td>\n",
       "      <td>2020</td>\n",
       "    </tr>\n",
       "    <tr>\n",
       "      <th>229</th>\n",
       "      <td>The Old Ways</td>\n",
       "      <td>2020</td>\n",
       "    </tr>\n",
       "    <tr>\n",
       "      <th>...</th>\n",
       "      <td>...</td>\n",
       "      <td>...</td>\n",
       "    </tr>\n",
       "    <tr>\n",
       "      <th>3046</th>\n",
       "      <td>All the Freckles in the World</td>\n",
       "      <td>2020</td>\n",
       "    </tr>\n",
       "    <tr>\n",
       "      <th>3060</th>\n",
       "      <td>Ghost Stories</td>\n",
       "      <td>2020</td>\n",
       "    </tr>\n",
       "    <tr>\n",
       "      <th>5972</th>\n",
       "      <td>#cats_the_mewvie</td>\n",
       "      <td>2020</td>\n",
       "    </tr>\n",
       "    <tr>\n",
       "      <th>7594</th>\n",
       "      <td>Norm of the North: Family Vacation</td>\n",
       "      <td>2020</td>\n",
       "    </tr>\n",
       "    <tr>\n",
       "      <th>8099</th>\n",
       "      <td>Straight Up</td>\n",
       "      <td>2020</td>\n",
       "    </tr>\n",
       "  </tbody>\n",
       "</table>\n",
       "<p>444 rows × 2 columns</p>\n",
       "</div>"
      ],
      "text/plain": [
       "                                   title  release_year\n",
       "0                   Dick Johnson Is Dead          2020\n",
       "84                  Omo Ghetto: the Saga          2020\n",
       "126                              Shikara          2020\n",
       "227                          Really Love          2020\n",
       "229                         The Old Ways          2020\n",
       "...                                  ...           ...\n",
       "3046       All the Freckles in the World          2020\n",
       "3060                       Ghost Stories          2020\n",
       "5972                    #cats_the_mewvie          2020\n",
       "7594  Norm of the North: Family Vacation          2020\n",
       "8099                         Straight Up          2020\n",
       "\n",
       "[444 rows x 2 columns]"
      ]
     },
     "execution_count": 76,
     "metadata": {},
     "output_type": "execute_result"
    }
   ],
   "source": [
    "COVID_movies = COVID_year[['title', 'release_year']]\n",
    "COVID_movies"
   ]
  },
  {
   "cell_type": "code",
   "execution_count": 77,
   "id": "3f552f26",
   "metadata": {},
   "outputs": [
    {
     "data": {
      "text/html": [
       "<div>\n",
       "<style scoped>\n",
       "    .dataframe tbody tr th:only-of-type {\n",
       "        vertical-align: middle;\n",
       "    }\n",
       "\n",
       "    .dataframe tbody tr th {\n",
       "        vertical-align: top;\n",
       "    }\n",
       "\n",
       "    .dataframe thead th {\n",
       "        text-align: right;\n",
       "    }\n",
       "</style>\n",
       "<table border=\"1\" class=\"dataframe\">\n",
       "  <thead>\n",
       "    <tr style=\"text-align: right;\">\n",
       "      <th></th>\n",
       "      <th>title</th>\n",
       "      <th>release_year</th>\n",
       "    </tr>\n",
       "  </thead>\n",
       "  <tbody>\n",
       "    <tr>\n",
       "      <th>9</th>\n",
       "      <td>The Starling</td>\n",
       "      <td>2021</td>\n",
       "    </tr>\n",
       "    <tr>\n",
       "      <th>12</th>\n",
       "      <td>Je Suis Karl</td>\n",
       "      <td>2021</td>\n",
       "    </tr>\n",
       "    <tr>\n",
       "      <th>81</th>\n",
       "      <td>Kate</td>\n",
       "      <td>2021</td>\n",
       "    </tr>\n",
       "    <tr>\n",
       "      <th>91</th>\n",
       "      <td>The Women and the Murderer</td>\n",
       "      <td>2021</td>\n",
       "    </tr>\n",
       "    <tr>\n",
       "      <th>101</th>\n",
       "      <td>Untold: Breaking Point</td>\n",
       "      <td>2021</td>\n",
       "    </tr>\n",
       "    <tr>\n",
       "      <th>...</th>\n",
       "      <td>...</td>\n",
       "      <td>...</td>\n",
       "    </tr>\n",
       "    <tr>\n",
       "      <th>1411</th>\n",
       "      <td>What Would Sophia Loren Do?</td>\n",
       "      <td>2021</td>\n",
       "    </tr>\n",
       "    <tr>\n",
       "      <th>1412</th>\n",
       "      <td>Wish You</td>\n",
       "      <td>2021</td>\n",
       "    </tr>\n",
       "    <tr>\n",
       "      <th>1420</th>\n",
       "      <td>Crack: Cocaine, Corruption &amp; Conspiracy</td>\n",
       "      <td>2021</td>\n",
       "    </tr>\n",
       "    <tr>\n",
       "      <th>1424</th>\n",
       "      <td>Charming</td>\n",
       "      <td>2021</td>\n",
       "    </tr>\n",
       "    <tr>\n",
       "      <th>1468</th>\n",
       "      <td>What Happened to Mr. Cha?</td>\n",
       "      <td>2021</td>\n",
       "    </tr>\n",
       "  </tbody>\n",
       "</table>\n",
       "<p>161 rows × 2 columns</p>\n",
       "</div>"
      ],
      "text/plain": [
       "                                        title  release_year\n",
       "9                                The Starling          2021\n",
       "12                               Je Suis Karl          2021\n",
       "81                                       Kate          2021\n",
       "91                 The Women and the Murderer          2021\n",
       "101                    Untold: Breaking Point          2021\n",
       "...                                       ...           ...\n",
       "1411              What Would Sophia Loren Do?          2021\n",
       "1412                                 Wish You          2021\n",
       "1420  Crack: Cocaine, Corruption & Conspiracy          2021\n",
       "1424                                 Charming          2021\n",
       "1468                What Happened to Mr. Cha?          2021\n",
       "\n",
       "[161 rows x 2 columns]"
      ]
     },
     "execution_count": 77,
     "metadata": {},
     "output_type": "execute_result"
    }
   ],
   "source": [
    "postCOVID_movies = Post_COVID[['title', 'release_year']]\n",
    "postCOVID_movies"
   ]
  },
  {
   "cell_type": "markdown",
   "id": "f56103e3",
   "metadata": {},
   "source": [
    "Directors that Produced the most Movies in Descending Order"
   ]
  },
  {
   "cell_type": "code",
   "execution_count": 79,
   "id": "5672230f",
   "metadata": {},
   "outputs": [
    {
     "data": {
      "text/plain": [
       "director                                    release_year\n",
       "Raúl Campos, Jan Suter                      2018            12\n",
       "Marcus Raboy                                2017             6\n",
       "Kayode Kasum                                2020             4\n",
       "Jay Chapman                                 2017             4\n",
       "Matt Askem                                  2018             4\n",
       "Justin G. Dyck                              2018             4\n",
       "Edward Cotterill                            2017             4\n",
       "Raúl Campos, Jan Suter                      2016             3\n",
       "Shaun Paul Piccinino                        2020             3\n",
       "Jay Karas                                   2016             3\n",
       "Leslie Small                                2019             3\n",
       "Marcus Raboy                                2018             3\n",
       "Jay Chapman                                 2014             3\n",
       "Cathy Garcia-Molina                         2017             3\n",
       "Raúl Campos, Jan Suter                      2017             3\n",
       "Linda Mendoza                               2019             3\n",
       "Justin G. Dyck                              2017             3\n",
       "Mike Smith, John Paul Tremblay, Robb Wells  2014             3\n",
       "Richard Weston                              2020             3\n",
       "Don Michael Paul                            2018             2\n",
       "dtype: int64"
      ]
     },
     "execution_count": 79,
     "metadata": {},
     "output_type": "execute_result"
    }
   ],
   "source": [
    "net_movies_col[['director', 'release_year']].value_counts().head(20)"
   ]
  },
  {
   "cell_type": "code",
   "execution_count": null,
   "id": "12d2be01",
   "metadata": {},
   "outputs": [],
   "source": []
  }
 ],
 "metadata": {
  "kernelspec": {
   "display_name": "Python 3.9.6",
   "language": "python",
   "name": "python3"
  },
  "language_info": {
   "codemirror_mode": {
    "name": "ipython",
    "version": 3
   },
   "file_extension": ".py",
   "mimetype": "text/x-python",
   "name": "python",
   "nbconvert_exporter": "python",
   "pygments_lexer": "ipython3",
   "version": "3.9.6"
  },
  "vscode": {
   "interpreter": {
    "hash": "75749d2fa9fc87b1fbb1e930b5498b7fff928f27add572ece287d2cdd39e6e16"
   }
  }
 },
 "nbformat": 4,
 "nbformat_minor": 5
}
